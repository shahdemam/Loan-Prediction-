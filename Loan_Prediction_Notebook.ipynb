{
  "nbformat": 4,
  "nbformat_minor": 0,
  "metadata": {
    "colab": {
      "provenance": []
    },
    "kernelspec": {
      "name": "python3",
      "display_name": "Python 3"
    },
    "language_info": {
      "name": "python"
    }
  },
  "cells": [
    {
      "cell_type": "code",
      "execution_count": 1,
      "metadata": {
        "id": "83uzr1fZdEH_"
      },
      "outputs": [],
      "source": [
        "import pandas as pd\n",
        "import numpy as np\n",
        "import matplotlib.pyplot as plt\n",
        "import statistics\n",
        "import math\n",
        "from sklearn.utils import resample\n",
        "from sklearn.impute import SimpleImputer\n",
        "from sklearn.model_selection import train_test_split\n",
        "from sklearn.preprocessing import StandardScaler\n",
        "from sklearn.neighbors import KNeighborsClassifier\n",
        "from sklearn.compose import ColumnTransformer\n",
        "from sklearn.preprocessing import OneHotEncoder\n",
        "from sklearn.preprocessing import LabelEncoder\n",
        "from sklearn.metrics import accuracy_score, confusion_matrix, classification_report\n",
        "from sklearn.tree import DecisionTreeClassifier\n",
        "from sklearn.naive_bayes import GaussianNB\n",
        "from sklearn.metrics import confusion_matrix, ConfusionMatrixDisplay\n",
        "import seaborn as sns"
      ]
    },
    {
      "cell_type": "code",
      "source": [
        "data_set = pd.read_csv(r\"/content/Dataset_project.csv\")\n"
      ],
      "metadata": {
        "id": "_EmOEEg1dL0O"
      },
      "execution_count": 2,
      "outputs": []
    },
    {
      "cell_type": "code",
      "source": [
        "print(data_set.head())"
      ],
      "metadata": {
        "colab": {
          "base_uri": "https://localhost:8080/"
        },
        "id": "ADeKIkMMdTX2",
        "outputId": "886ca802-f135-436f-b35d-64be6cc28d08"
      },
      "execution_count": 3,
      "outputs": [
        {
          "output_type": "stream",
          "name": "stdout",
          "text": [
            "    Loan_ID Gender Married Dependents     Education Self_Employed  \\\n",
            "0  LP001002   Male      No          0      Graduate            No   \n",
            "1  LP001003   Male     Yes          1      Graduate            No   \n",
            "2  LP001005   Male     Yes          0      Graduate           Yes   \n",
            "3  LP001006   Male     Yes          0  Not Graduate            No   \n",
            "4  LP001008   Male      No          0      Graduate            No   \n",
            "\n",
            "   ApplicantIncome  CoapplicantIncome  LoanAmount  Loan_Amount_Term  \\\n",
            "0           5849.0                0.0         NaN             360.0   \n",
            "1              NaN             1508.0       128.0             360.0   \n",
            "2           3000.0                0.0        66.0             360.0   \n",
            "3           2583.0             2358.0       120.0             360.0   \n",
            "4           6000.0                0.0       141.0             360.0   \n",
            "\n",
            "  Credit_History property_Area Loan_Status  \n",
            "0            yes         Urban           Y  \n",
            "1            yes         Rural           N  \n",
            "2             No         Urban           Y  \n",
            "3            yes         Urban           Y  \n",
            "4            yes         Urban           Y  \n"
          ]
        }
      ]
    },
    {
      "cell_type": "code",
      "source": [
        "independent = data_set.iloc[:, 1:-1].values\n",
        "dependent = data_set.iloc[:, -1].values"
      ],
      "metadata": {
        "id": "Vkpdx0xMdWeI"
      },
      "execution_count": 4,
      "outputs": []
    },
    {
      "cell_type": "code",
      "source": [
        "print('Independent:', independent[0:11])\n",
        "print('Dependent: ', dependent[0:11])"
      ],
      "metadata": {
        "colab": {
          "base_uri": "https://localhost:8080/"
        },
        "id": "IKF2UGsYdb4_",
        "outputId": "376d3ba1-3f74-4e72-8f0f-17d89ea7a2e0"
      },
      "execution_count": 5,
      "outputs": [
        {
          "output_type": "stream",
          "name": "stdout",
          "text": [
            "Independent: [['Male' 'No' '0' 'Graduate' 'No' 5849.0 0.0 nan 360.0 'yes' 'Urban']\n",
            " ['Male' 'Yes' '1' 'Graduate' 'No' nan 1508.0 128.0 360.0 'yes' 'Rural']\n",
            " ['Male' 'Yes' '0' 'Graduate' 'Yes' 3000.0 0.0 66.0 360.0 'No' 'Urban']\n",
            " ['Male' 'Yes' '0' 'Not Graduate' 'No' 2583.0 2358.0 120.0 360.0 'yes'\n",
            "  'Urban']\n",
            " ['Male' 'No' '0' 'Graduate' 'No' 6000.0 0.0 141.0 360.0 'yes' 'Urban']\n",
            " [nan 'Yes' '2' 'Graduate' 'Yes' 5417.0 4196.0 267.0 360.0 'yes' 'Urban']\n",
            " ['Male' 'Yes' '0' 'Not Graduate' 'No' 2333.0 1516.0 95.0 360.0 'yes'\n",
            "  'Urban']\n",
            " ['Male' 'Yes' '3+' 'Graduate' 'No' 3036.0 2504.0 158.0 360.0 'No'\n",
            "  'Semiurban']\n",
            " ['Male' 'Yes' '2' nan 'No' 4006.0 1526.0 168.0 360.0 'yes' 'Urban']\n",
            " ['Male' 'Yes' '1' 'Graduate' 'No' 12841.0 10968.0 349.0 360.0 'yes'\n",
            "  'Semiurban']\n",
            " ['Male' 'Yes' '2' 'Graduate' 'No' 3200.0 700.0 70.0 360.0 'yes' 'Urban']]\n",
            "Dependent:  ['Y' 'N' 'Y' 'Y' 'Y' 'Y' 'Y' 'N' 'Y' 'N' 'Y']\n"
          ]
        }
      ]
    },
    {
      "cell_type": "code",
      "source": [
        "print(data_set.isna().any(axis=0))\n",
        "print(data_set.dtypes)\n",
        "\n"
      ],
      "metadata": {
        "colab": {
          "base_uri": "https://localhost:8080/"
        },
        "id": "OyM4ayvsdgvU",
        "outputId": "89d796de-828b-4698-ce53-8c7054df1785"
      },
      "execution_count": 6,
      "outputs": [
        {
          "output_type": "stream",
          "name": "stdout",
          "text": [
            "Loan_ID              False\n",
            "Gender                True\n",
            "Married               True\n",
            "Dependents            True\n",
            "Education             True\n",
            "Self_Employed         True\n",
            "ApplicantIncome       True\n",
            "CoapplicantIncome     True\n",
            "LoanAmount            True\n",
            "Loan_Amount_Term      True\n",
            "Credit_History        True\n",
            "property_Area        False\n",
            "Loan_Status          False\n",
            "dtype: bool\n",
            "Loan_ID               object\n",
            "Gender                object\n",
            "Married               object\n",
            "Dependents            object\n",
            "Education             object\n",
            "Self_Employed         object\n",
            "ApplicantIncome      float64\n",
            "CoapplicantIncome    float64\n",
            "LoanAmount           float64\n",
            "Loan_Amount_Term     float64\n",
            "Credit_History        object\n",
            "property_Area         object\n",
            "Loan_Status           object\n",
            "dtype: object\n"
          ]
        }
      ]
    },
    {
      "cell_type": "code",
      "source": [
        "imputer = SimpleImputer(missing_values=np.nan, strategy='mean')\n",
        "imputer.fit(independent[:, 5:9])\n",
        "independent[:, 5:9] = imputer.transform(independent[:, 5:9])"
      ],
      "metadata": {
        "id": "YV-8a30Adkxk"
      },
      "execution_count": 7,
      "outputs": []
    },
    {
      "cell_type": "code",
      "source": [
        "independent = pd.DataFrame(independent)\n",
        "columns = independent.columns\n",
        "for column in columns:\n",
        "    if independent[column].dtype == 'object':\n",
        "        independent[column] = independent[column].infer_objects()\n",
        "        independent[column] = independent[column].fillna(independent[column].mode()[0])"
      ],
      "metadata": {
        "id": "Xp8-i7K3dmEY"
      },
      "execution_count": 8,
      "outputs": []
    },
    {
      "cell_type": "code",
      "source": [
        "print(independent.isna().any(axis=0))\n",
        "independent = independent.values\n",
        "print(\"Example of Handle: \", independent[11])\n"
      ],
      "metadata": {
        "colab": {
          "base_uri": "https://localhost:8080/"
        },
        "id": "vKExJSaMdoxT",
        "outputId": "bdd69cdf-ee99-485b-da77-7f7b85f14692"
      },
      "execution_count": 9,
      "outputs": [
        {
          "output_type": "stream",
          "name": "stdout",
          "text": [
            "0     False\n",
            "1     False\n",
            "2     False\n",
            "3     False\n",
            "4     False\n",
            "5     False\n",
            "6     False\n",
            "7     False\n",
            "8     False\n",
            "9     False\n",
            "10    False\n",
            "dtype: bool\n",
            "Example of Handle:  ['Male' 'Yes' '2' 'Graduate' 'No' 2500.0 1620.8889396225773 109.0 360.0\n",
            " 'yes' 'Urban']\n"
          ]
        }
      ]
    },
    {
      "cell_type": "code",
      "source": [
        "# Encoding\n",
        "ct = ColumnTransformer(transformers=[('encoder', OneHotEncoder(sparse_output=False), [0, 1, 2, 3, 4, 9, 10])], remainder='passthrough')\n",
        "independent = np.array(ct.fit_transform(independent))\n",
        "data_encoded = pd.DataFrame(independent)\n",
        "print(data_encoded.head(12))\n",
        "print(data_encoded.iloc[0:20, 0:17])"
      ],
      "metadata": {
        "colab": {
          "base_uri": "https://localhost:8080/"
        },
        "id": "tXo3IpUUdsOL",
        "outputId": "6b1b4cb7-6404-41b1-cac9-0221ee8f6fbb"
      },
      "execution_count": 10,
      "outputs": [
        {
          "output_type": "stream",
          "name": "stdout",
          "text": [
            "     0    1    2    3    4    5    6    7    8    9   ...   11   12   13   14  \\\n",
            "0   0.0  1.0  1.0  0.0  1.0  0.0  0.0  0.0  1.0  0.0  ...  0.0  0.0  1.0  0.0   \n",
            "1   0.0  1.0  0.0  1.0  0.0  1.0  0.0  0.0  1.0  0.0  ...  0.0  0.0  1.0  1.0   \n",
            "2   0.0  1.0  0.0  1.0  1.0  0.0  0.0  0.0  1.0  0.0  ...  1.0  1.0  0.0  0.0   \n",
            "3   0.0  1.0  0.0  1.0  1.0  0.0  0.0  0.0  0.0  1.0  ...  0.0  0.0  1.0  0.0   \n",
            "4   0.0  1.0  1.0  0.0  1.0  0.0  0.0  0.0  1.0  0.0  ...  0.0  0.0  1.0  0.0   \n",
            "5   0.0  1.0  0.0  1.0  0.0  0.0  1.0  0.0  1.0  0.0  ...  1.0  0.0  1.0  0.0   \n",
            "6   0.0  1.0  0.0  1.0  1.0  0.0  0.0  0.0  0.0  1.0  ...  0.0  0.0  1.0  0.0   \n",
            "7   0.0  1.0  0.0  1.0  0.0  0.0  0.0  1.0  1.0  0.0  ...  0.0  1.0  0.0  0.0   \n",
            "8   0.0  1.0  0.0  1.0  0.0  0.0  1.0  0.0  1.0  0.0  ...  0.0  0.0  1.0  0.0   \n",
            "9   0.0  1.0  0.0  1.0  0.0  1.0  0.0  0.0  1.0  0.0  ...  0.0  0.0  1.0  0.0   \n",
            "10  0.0  1.0  0.0  1.0  0.0  0.0  1.0  0.0  1.0  0.0  ...  0.0  0.0  1.0  0.0   \n",
            "11  0.0  1.0  0.0  1.0  0.0  0.0  1.0  0.0  1.0  0.0  ...  0.0  0.0  1.0  0.0   \n",
            "\n",
            "     15   16          17          18          19     20  \n",
            "0   0.0  1.0      5849.0         0.0  146.412162  360.0  \n",
            "1   0.0  0.0  5405.54085      1508.0       128.0  360.0  \n",
            "2   0.0  1.0      3000.0         0.0        66.0  360.0  \n",
            "3   0.0  1.0      2583.0      2358.0       120.0  360.0  \n",
            "4   0.0  1.0      6000.0         0.0       141.0  360.0  \n",
            "5   0.0  1.0      5417.0      4196.0       267.0  360.0  \n",
            "6   0.0  1.0      2333.0      1516.0        95.0  360.0  \n",
            "7   1.0  0.0      3036.0      2504.0       158.0  360.0  \n",
            "8   0.0  1.0      4006.0      1526.0       168.0  360.0  \n",
            "9   1.0  0.0     12841.0     10968.0       349.0  360.0  \n",
            "10  0.0  1.0      3200.0       700.0        70.0  360.0  \n",
            "11  0.0  1.0      2500.0  1620.88894       109.0  360.0  \n",
            "\n",
            "[12 rows x 21 columns]\n",
            "     0    1    2    3    4    5    6    7    8    9    10   11   12   13   14  \\\n",
            "0   0.0  1.0  1.0  0.0  1.0  0.0  0.0  0.0  1.0  0.0  1.0  0.0  0.0  1.0  0.0   \n",
            "1   0.0  1.0  0.0  1.0  0.0  1.0  0.0  0.0  1.0  0.0  1.0  0.0  0.0  1.0  1.0   \n",
            "2   0.0  1.0  0.0  1.0  1.0  0.0  0.0  0.0  1.0  0.0  0.0  1.0  1.0  0.0  0.0   \n",
            "3   0.0  1.0  0.0  1.0  1.0  0.0  0.0  0.0  0.0  1.0  1.0  0.0  0.0  1.0  0.0   \n",
            "4   0.0  1.0  1.0  0.0  1.0  0.0  0.0  0.0  1.0  0.0  1.0  0.0  0.0  1.0  0.0   \n",
            "5   0.0  1.0  0.0  1.0  0.0  0.0  1.0  0.0  1.0  0.0  0.0  1.0  0.0  1.0  0.0   \n",
            "6   0.0  1.0  0.0  1.0  1.0  0.0  0.0  0.0  0.0  1.0  1.0  0.0  0.0  1.0  0.0   \n",
            "7   0.0  1.0  0.0  1.0  0.0  0.0  0.0  1.0  1.0  0.0  1.0  0.0  1.0  0.0  0.0   \n",
            "8   0.0  1.0  0.0  1.0  0.0  0.0  1.0  0.0  1.0  0.0  1.0  0.0  0.0  1.0  0.0   \n",
            "9   0.0  1.0  0.0  1.0  0.0  1.0  0.0  0.0  1.0  0.0  1.0  0.0  0.0  1.0  0.0   \n",
            "10  0.0  1.0  0.0  1.0  0.0  0.0  1.0  0.0  1.0  0.0  1.0  0.0  0.0  1.0  0.0   \n",
            "11  0.0  1.0  0.0  1.0  0.0  0.0  1.0  0.0  1.0  0.0  1.0  0.0  0.0  1.0  0.0   \n",
            "12  0.0  1.0  0.0  1.0  0.0  0.0  1.0  0.0  1.0  0.0  1.0  0.0  0.0  1.0  0.0   \n",
            "13  0.0  1.0  1.0  0.0  1.0  0.0  0.0  0.0  1.0  0.0  1.0  0.0  0.0  1.0  1.0   \n",
            "14  0.0  1.0  0.0  1.0  0.0  0.0  1.0  0.0  1.0  0.0  1.0  0.0  0.0  1.0  0.0   \n",
            "15  0.0  1.0  1.0  0.0  1.0  0.0  0.0  0.0  1.0  0.0  1.0  0.0  0.0  1.0  0.0   \n",
            "16  0.0  1.0  1.0  0.0  0.0  1.0  0.0  0.0  0.0  1.0  1.0  0.0  0.0  1.0  0.0   \n",
            "17  1.0  0.0  1.0  0.0  1.0  0.0  0.0  0.0  1.0  0.0  1.0  0.0  1.0  0.0  0.0   \n",
            "18  0.0  1.0  0.0  1.0  1.0  0.0  0.0  0.0  0.0  1.0  1.0  0.0  0.0  1.0  1.0   \n",
            "19  0.0  1.0  0.0  1.0  1.0  0.0  0.0  0.0  1.0  0.0  1.0  0.0  0.0  1.0  0.0   \n",
            "\n",
            "     15   16  \n",
            "0   0.0  1.0  \n",
            "1   0.0  0.0  \n",
            "2   0.0  1.0  \n",
            "3   0.0  1.0  \n",
            "4   0.0  1.0  \n",
            "5   0.0  1.0  \n",
            "6   0.0  1.0  \n",
            "7   1.0  0.0  \n",
            "8   0.0  1.0  \n",
            "9   1.0  0.0  \n",
            "10  0.0  1.0  \n",
            "11  0.0  1.0  \n",
            "12  0.0  1.0  \n",
            "13  0.0  0.0  \n",
            "14  0.0  1.0  \n",
            "15  0.0  1.0  \n",
            "16  0.0  1.0  \n",
            "17  0.0  1.0  \n",
            "18  0.0  0.0  \n",
            "19  0.0  1.0  \n"
          ]
        }
      ]
    },
    {
      "cell_type": "code",
      "source": [
        "le = LabelEncoder()\n",
        "dependent = le.fit_transform(dependent)\n",
        "target = pd.DataFrame(dependent)\n",
        "print(\"target\",target.head(21))\n",
        "print(\"Ex of encoder: \", dependent[0:11])"
      ],
      "metadata": {
        "colab": {
          "base_uri": "https://localhost:8080/"
        },
        "id": "r0aGn8Bgd1hM",
        "outputId": "d7bd837f-6661-4c98-ecea-81650d61f911"
      },
      "execution_count": 11,
      "outputs": [
        {
          "output_type": "stream",
          "name": "stdout",
          "text": [
            "target     0\n",
            "0   1\n",
            "1   0\n",
            "2   1\n",
            "3   1\n",
            "4   1\n",
            "5   1\n",
            "6   1\n",
            "7   0\n",
            "8   1\n",
            "9   0\n",
            "10  1\n",
            "11  1\n",
            "12  1\n",
            "13  0\n",
            "14  1\n",
            "15  1\n",
            "16  1\n",
            "17  0\n",
            "18  0\n",
            "19  1\n",
            "20  0\n",
            "Ex of encoder:  [1 0 1 1 1 1 1 0 1 0 1]\n"
          ]
        }
      ]
    },
    {
      "cell_type": "code",
      "source": [
        "# Split data into test and train sets\n",
        "independent_train, independent_test, dependent_train, dependent_test = train_test_split(independent, dependent, test_size=0.2, random_state=1)\n",
        "print('independent_train', independent_train[0:15])\n",
        "print('independent_test', independent_test[0:15])\n",
        "print('dependent_train', dependent_train[0:15])\n",
        "print('dependent_test', dependent_test[0:15])"
      ],
      "metadata": {
        "colab": {
          "base_uri": "https://localhost:8080/"
        },
        "id": "S2Ewq5gid5Yc",
        "outputId": "4f632f84-886b-4ee6-d23d-2b523290abd8"
      },
      "execution_count": 12,
      "outputs": [
        {
          "output_type": "stream",
          "name": "stdout",
          "text": [
            "independent_train [[0.0 1.0 0.0 1.0 0.0 0.0 1.0 0.0 1.0 0.0 1.0 0.0 1.0 0.0 0.0 1.0 0.0\n",
            "  4400.0 0.0 127.0 360.0]\n",
            " [0.0 1.0 1.0 0.0 1.0 0.0 0.0 0.0 1.0 0.0 1.0 0.0 0.0 1.0 0.0 0.0 1.0\n",
            "  3583.0 0.0 96.0 360.0]\n",
            " [1.0 0.0 0.0 1.0 1.0 0.0 0.0 0.0 1.0 0.0 1.0 0.0 0.0 1.0 0.0 0.0 1.0\n",
            "  4333.0 2451.0 110.0 360.0]\n",
            " [1.0 0.0 1.0 0.0 1.0 0.0 0.0 0.0 1.0 0.0 1.0 0.0 0.0 1.0 1.0 0.0 0.0\n",
            "  2900.0 0.0 71.0 360.0]\n",
            " [1.0 0.0 1.0 0.0 1.0 0.0 0.0 0.0 1.0 0.0 1.0 0.0 1.0 0.0 0.0 1.0 0.0\n",
            "  4300.0 0.0 136.0 360.0]\n",
            " [0.0 1.0 1.0 0.0 1.0 0.0 0.0 0.0 1.0 0.0 1.0 0.0 0.0 1.0 0.0 0.0 1.0\n",
            "  3600.0 0.0 80.0 360.0]\n",
            " [0.0 1.0 0.0 1.0 0.0 0.0 1.0 0.0 1.0 0.0 0.0 1.0 0.0 1.0 0.0 0.0 1.0\n",
            "  5417.0 4196.0 267.0 360.0]\n",
            " [1.0 0.0 1.0 0.0 0.0 1.0 0.0 0.0 1.0 0.0 0.0 1.0 0.0 1.0 0.0 1.0 0.0\n",
            "  8624.0 0.0 150.0 360.0]\n",
            " [0.0 1.0 0.0 1.0 1.0 0.0 0.0 0.0 1.0 0.0 1.0 0.0 1.0 0.0 1.0 0.0 0.0\n",
            "  2483.0 2466.0 90.0 180.0]\n",
            " [0.0 1.0 1.0 0.0 1.0 0.0 0.0 0.0 1.0 0.0 1.0 0.0 0.0 1.0 0.0 0.0 1.0\n",
            "  4166.0 7210.0 184.0 360.0]\n",
            " [1.0 0.0 0.0 1.0 1.0 0.0 0.0 0.0 1.0 0.0 1.0 0.0 0.0 1.0 0.0 1.0 0.0\n",
            "  3166.0 0.0 36.0 360.0]\n",
            " [1.0 0.0 0.0 1.0 1.0 0.0 0.0 0.0 1.0 0.0 1.0 0.0 0.0 1.0 0.0 1.0 0.0\n",
            "  2423.0 505.0 130.0 360.0]\n",
            " [0.0 1.0 0.0 1.0 1.0 0.0 0.0 0.0 1.0 0.0 1.0 0.0 0.0 1.0 1.0 0.0 0.0\n",
            "  2625.0 6250.0 187.0 360.0]\n",
            " [0.0 1.0 0.0 1.0 0.0 1.0 0.0 0.0 1.0 0.0 1.0 0.0 0.0 1.0 0.0 0.0 1.0\n",
            "  10750.0 0.0 312.0 360.0]\n",
            " [0.0 1.0 0.0 1.0 1.0 0.0 0.0 0.0 0.0 1.0 1.0 0.0 0.0 1.0 1.0 0.0 0.0\n",
            "  4300.0 2014.0 194.0 360.0]]\n",
            "independent_test [[0.0 1.0 1.0 0.0 0.0 1.0 0.0 0.0 1.0 0.0 1.0 0.0 0.0 1.0 0.0 1.0 0.0\n",
            "  11250.0 0.0 196.0 360.0]\n",
            " [1.0 0.0 0.0 1.0 1.0 0.0 0.0 0.0 0.0 1.0 1.0 0.0 0.0 1.0 0.0 1.0 0.0\n",
            "  3017.0 663.0 102.0 360.0]\n",
            " [0.0 1.0 1.0 0.0 1.0 0.0 0.0 0.0 1.0 0.0 1.0 0.0 0.0 1.0 0.0 0.0 1.0\n",
            "  1800.0 1213.0 47.0 360.0]\n",
            " [1.0 0.0 1.0 0.0 1.0 0.0 0.0 0.0 1.0 0.0 1.0 0.0 0.0 1.0 1.0 0.0 0.0\n",
            "  10000.0 1666.0 225.0 360.0]\n",
            " [1.0 0.0 0.0 1.0 1.0 0.0 0.0 0.0 1.0 0.0 1.0 0.0 0.0 1.0 0.0 1.0 0.0\n",
            "  2929.0 2333.0 139.0 360.0]\n",
            " [1.0 0.0 1.0 0.0 1.0 0.0 0.0 0.0 1.0 0.0 1.0 0.0 1.0 0.0 0.0 0.0 1.0\n",
            "  5417.0 0.0 143.0 480.0]\n",
            " [1.0 0.0 0.0 1.0 1.0 0.0 0.0 0.0 1.0 0.0 1.0 0.0 0.0 1.0 0.0 1.0 0.0\n",
            "  10047.0 0.0 146.41216216216216 240.0]\n",
            " [1.0 0.0 1.0 0.0 1.0 0.0 0.0 0.0 0.0 1.0 1.0 0.0 0.0 1.0 1.0 0.0 0.0\n",
            "  2213.0 0.0 66.0 360.0]\n",
            " [0.0 1.0 1.0 0.0 1.0 0.0 0.0 0.0 0.0 1.0 1.0 0.0 0.0 1.0 0.0 1.0 0.0\n",
            "  2927.0 2405.0 111.0 360.0]\n",
            " [0.0 1.0 0.0 1.0 0.0 0.0 1.0 0.0 0.0 1.0 1.0 0.0 1.0 0.0 1.0 0.0 0.0\n",
            "  3365.0 1917.0 112.0 360.0]\n",
            " [0.0 1.0 1.0 0.0 1.0 0.0 0.0 0.0 1.0 0.0 1.0 0.0 0.0 1.0 0.0 0.0 1.0\n",
            "  2965.0 5701.0 155.0 60.0]\n",
            " [0.0 1.0 0.0 1.0 1.0 0.0 0.0 0.0 1.0 0.0 0.0 1.0 0.0 1.0 0.0 1.0 0.0\n",
            "  39147.0 4750.0 120.0 360.0]\n",
            " [0.0 1.0 1.0 0.0 1.0 0.0 0.0 0.0 1.0 0.0 1.0 0.0 0.0 1.0 0.0 1.0 0.0\n",
            "  2500.0 0.0 55.0 360.0]\n",
            " [0.0 1.0 0.0 1.0 1.0 0.0 0.0 0.0 0.0 1.0 1.0 0.0 0.0 1.0 1.0 0.0 0.0\n",
            "  2600.0 1700.0 107.0 360.0]\n",
            " [0.0 1.0 1.0 0.0 1.0 0.0 0.0 0.0 1.0 0.0 1.0 0.0 0.0 1.0 0.0 0.0 1.0\n",
            "  3333.0 0.0 70.0 360.0]]\n",
            "dependent_train [0 0 0 1 0 0 1 1 1 1 1 1 1 1 1]\n",
            "dependent_test [0 1 1 0 1 0 1 1 1 0 1 1 1 1 1]\n"
          ]
        }
      ]
    },
    {
      "cell_type": "code",
      "source": [
        "# Standardization\n",
        "sc = StandardScaler()\n",
        "independent_train[:, 5:9] = sc.fit_transform(independent_train[:, 5:9])\n",
        "independent_test[:, 5:9] = sc.transform(independent_test[:, 5:9])\n",
        "print(\"independent_train standardization\", independent_train[0:10, 5:9])\n",
        "print(\"independent_test standardization\", independent_test[0:10, 5:9])"
      ],
      "metadata": {
        "colab": {
          "base_uri": "https://localhost:8080/"
        },
        "id": "F1DisSV1d8Nj",
        "outputId": "4e608538-aa7f-4ff2-a2e3-89641b5b2b8e"
      },
      "execution_count": 13,
      "outputs": [
        {
          "output_type": "stream",
          "name": "stdout",
          "text": [
            "independent_train standardization [[-0.4640544522504497 2.2171293716430673 -0.30184617127124785\n",
            "  0.5088952337901783]\n",
            " [-0.4640544522504497 -0.4510336711920946 -0.30184617127124785\n",
            "  0.5088952337901783]\n",
            " [-0.4640544522504497 -0.4510336711920946 -0.30184617127124785\n",
            "  0.5088952337901783]\n",
            " [-0.4640544522504497 -0.4510336711920946 -0.30184617127124785\n",
            "  0.5088952337901783]\n",
            " [-0.4640544522504497 -0.4510336711920946 -0.30184617127124785\n",
            "  0.5088952337901783]\n",
            " [-0.4640544522504497 -0.4510336711920946 -0.30184617127124785\n",
            "  0.5088952337901783]\n",
            " [-0.4640544522504497 2.2171293716430673 -0.30184617127124785\n",
            "  0.5088952337901783]\n",
            " [2.1549195253928928 -0.4510336711920946 -0.30184617127124785\n",
            "  0.5088952337901783]\n",
            " [-0.4640544522504497 -0.4510336711920946 -0.30184617127124785\n",
            "  0.5088952337901783]\n",
            " [-0.4640544522504497 -0.4510336711920946 -0.30184617127124785\n",
            "  0.5088952337901783]]\n",
            "independent_test standardization [[2.1549195253928928 -0.4510336711920946 -0.30184617127124785\n",
            "  0.5088952337901783]\n",
            " [-0.4640544522504497 -0.4510336711920946 -0.30184617127124785\n",
            "  -1.9650410017640545]\n",
            " [-0.4640544522504497 -0.4510336711920946 -0.30184617127124785\n",
            "  0.5088952337901783]\n",
            " [-0.4640544522504497 -0.4510336711920946 -0.30184617127124785\n",
            "  0.5088952337901783]\n",
            " [-0.4640544522504497 -0.4510336711920946 -0.30184617127124785\n",
            "  0.5088952337901783]\n",
            " [-0.4640544522504497 -0.4510336711920946 -0.30184617127124785\n",
            "  0.5088952337901783]\n",
            " [-0.4640544522504497 -0.4510336711920946 -0.30184617127124785\n",
            "  0.5088952337901783]\n",
            " [-0.4640544522504497 -0.4510336711920946 -0.30184617127124785\n",
            "  -1.9650410017640545]\n",
            " [-0.4640544522504497 -0.4510336711920946 -0.30184617127124785\n",
            "  -1.9650410017640545]\n",
            " [-0.4640544522504497 2.2171293716430673 -0.30184617127124785\n",
            "  -1.9650410017640545]]\n"
          ]
        }
      ]
    },
    {
      "cell_type": "code",
      "source": [
        "# Visualization of imbalance or balance\n",
        "target_count = data_set.Loan_Status.value_counts()\n",
        "print('class_Yes:', target_count.iloc[0])\n",
        "print('class_No:', target_count.iloc[1])\n",
        "print('Proportion:', round(target_count.iloc[0] / target_count.iloc[1], 2), ':1')\n",
        "target_count.plot(kind='bar', title='Count(target)')\n",
        "plt.show()"
      ],
      "metadata": {
        "colab": {
          "base_uri": "https://localhost:8080/",
          "height": 523
        },
        "id": "WfwcmZc3d_qM",
        "outputId": "2046dc7d-bc4c-4a39-e961-d8f546f7c701"
      },
      "execution_count": 14,
      "outputs": [
        {
          "output_type": "stream",
          "name": "stdout",
          "text": [
            "class_Yes: 422\n",
            "class_No: 192\n",
            "Proportion: 2.2 :1\n"
          ]
        },
        {
          "output_type": "display_data",
          "data": {
            "text/plain": [
              "<Figure size 640x480 with 1 Axes>"
            ],
            "image/png": "[encoded data removed]"
          },
          "metadata": {}
        }
      ]
    },
    {
      "cell_type": "code",
      "source": [
        "# Handle imbalance\n",
        "count_class_yes, count_class_no = data_set['Loan_Status'].value_counts()\n",
        "df_class_yes = data_set[data_set['Loan_Status'] == 'Y']\n",
        "df_class_no = data_set[data_set['Loan_Status'] == 'N']\n",
        "df_class_no_upsampled = resample(df_class_no, replace=True, n_samples=count_class_yes, random_state=42)\n",
        "df_upsampled = pd.concat([df_class_no_upsampled, df_class_yes])\n",
        "df_upsampled['Loan_Status'].value_counts().plot(kind='bar', title='Count (Target)')\n",
        "plt.show()"
      ],
      "metadata": {
        "colab": {
          "base_uri": "https://localhost:8080/",
          "height": 468
        },
        "id": "NYfREzIbeDsM",
        "outputId": "684c9ca0-69ff-4591-dfe0-2e07bc46a52e"
      },
      "execution_count": 15,
      "outputs": [
        {
          "output_type": "display_data",
          "data": {
            "text/plain": [
              "<Figure size 640x480 with 1 Axes>"
            ],
            "image/png": "[encoded data removed]"
          },
          "metadata": {}
        }
      ]
    },
    {
      "cell_type": "code",
      "source": [
        "#knn model\n",
        "key=math.ceil((math.sqrt(len(dependent_test)))-1)\n",
        "model=KNeighborsClassifier(n_neighbors=key)\n",
        "model.fit(independent_train, dependent_train)\n",
        "dependent_pred= model.predict(independent_test)\n",
        "print(\"Accuracy:\", accuracy_score(dependent_test,dependent_pred))\n",
        "print(\"Confusion Matrix:\\n\", confusion_matrix(dependent_test,dependent_pred))\n",
        "print(\"Classification Report:\\n\", classification_report(dependent_test, dependent_pred))\n",
        "cm=confusion_matrix(dependent_test, dependent_pred)"
      ],
      "metadata": {
        "colab": {
          "base_uri": "https://localhost:8080/"
        },
        "id": "LjeCyV2oeGze",
        "outputId": "c4854e56-2379-49c4-df09-ced45755c259"
      },
      "execution_count": 18,
      "outputs": [
        {
          "output_type": "stream",
          "name": "stdout",
          "text": [
            "Accuracy: 0.6504065040650406\n",
            "Confusion Matrix:\n",
            " [[ 5 34]\n",
            " [ 9 75]]\n",
            "Classification Report:\n",
            "               precision    recall  f1-score   support\n",
            "\n",
            "           0       0.36      0.13      0.19        39\n",
            "           1       0.69      0.89      0.78        84\n",
            "\n",
            "    accuracy                           0.65       123\n",
            "   macro avg       0.52      0.51      0.48       123\n",
            "weighted avg       0.58      0.65      0.59       123\n",
            "\n"
          ]
        }
      ]
    },
    {
      "cell_type": "code",
      "source": [
        "# Naive Bayes model\n",
        "model = GaussianNB()\n",
        "model.fit(independent_train, dependent_train)\n",
        "dependent_pred = model.predict(independent_test)\n",
        "print(\"Confusion Matrix:\\n\", confusion_matrix(dependent_test, dependent_pred))\n",
        "print(\"Accuracy:\", accuracy_score(dependent_test, dependent_pred))\n",
        "cm = confusion_matrix(dependent_test, dependent_pred)\n",
        "print(\"\\nClassification Report:\")\n",
        "print(classification_report(dependent_test, dependent_pred))"
      ],
      "metadata": {
        "colab": {
          "base_uri": "https://localhost:8080/"
        },
        "id": "5ckYvUC_eZxJ",
        "outputId": "54375b5d-4dfb-43e2-90e9-7078aae326b4"
      },
      "execution_count": 19,
      "outputs": [
        {
          "output_type": "stream",
          "name": "stdout",
          "text": [
            "Confusion Matrix:\n",
            " [[18 21]\n",
            " [ 3 81]]\n",
            "Accuracy: 0.8048780487804879\n",
            "\n",
            "Classification Report:\n",
            "              precision    recall  f1-score   support\n",
            "\n",
            "           0       0.86      0.46      0.60        39\n",
            "           1       0.79      0.96      0.87        84\n",
            "\n",
            "    accuracy                           0.80       123\n",
            "   macro avg       0.83      0.71      0.74       123\n",
            "weighted avg       0.81      0.80      0.79       123\n",
            "\n"
          ]
        }
      ]
    },
    {
      "cell_type": "code",
      "source": [
        "ax = sns.heatmap(cm, annot=True, cmap='Blues')\n",
        "ax.set_title('Confusion Matrix' + '\\n\\n')\n",
        "ax.set_xlabel('\\nPredicted Values')\n",
        "ax.set_ylabel('Actual Values ')\n",
        "ax.xaxis.set_ticklabels(['Not Loan', 'Loan'])\n",
        "ax.yaxis.set_ticklabels(['Not Loan', 'Loan'])\n",
        "plt.show()"
      ],
      "metadata": {
        "colab": {
          "base_uri": "https://localhost:8080/",
          "height": 530
        },
        "id": "3zfekXbIecxp",
        "outputId": "9ff85b28-daaa-49ed-a20f-276876c14e5d"
      },
      "execution_count": 20,
      "outputs": [
        {
          "output_type": "display_data",
          "data": {
            "text/plain": [
              "<Figure size 640x480 with 2 Axes>"
            ],
            "image/png": "[encoded data removed]"
          },
          "metadata": {}
        }
      ]
    },
    {
      "cell_type": "code",
      "source": [
        "# Results Table\n",
        "results = pd.DataFrame({\n",
        "    \"Actual Values\": dependent_test,\n",
        "    \"Predicted Values\": dependent_pred\n",
        "})\n",
        "results[\"Correct\"] = results[\"Actual Values\"] == results[\"Predicted Values\"]\n",
        "print(\"\\nResults Table:\")\n",
        "print(results)"
      ],
      "metadata": {
        "colab": {
          "base_uri": "https://localhost:8080/"
        },
        "id": "DHv6-LZWefwf",
        "outputId": "8208e519-9584-4a72-c7d1-f136d61caf65"
      },
      "execution_count": 21,
      "outputs": [
        {
          "output_type": "stream",
          "name": "stdout",
          "text": [
            "\n",
            "Results Table:\n",
            "     Actual Values  Predicted Values  Correct\n",
            "0                0                 1    False\n",
            "1                1                 1     True\n",
            "2                1                 1     True\n",
            "3                0                 1    False\n",
            "4                1                 1     True\n",
            "..             ...               ...      ...\n",
            "118              0                 1    False\n",
            "119              0                 1    False\n",
            "120              1                 1     True\n",
            "121              0                 0     True\n",
            "122              1                 1     True\n",
            "\n",
            "[123 rows x 3 columns]\n"
          ]
        }
      ]
    },
    {
      "cell_type": "code",
      "source": [
        "# Allow user input for prediction\n",
        "sample_input = input(\"Enter a sample (comma-separated values matching the independent feature format): \")\n",
        "sample_input = np.array(sample_input.split(\",\"), dtype=object).reshape(1, -1)"
      ],
      "metadata": {
        "id": "fxhcyZO2e6gN"
      },
      "execution_count": null,
      "outputs": []
    },
    {
      "cell_type": "code",
      "source": [
        "# Process the sample (encoding and standardizing)\n",
        "sample_input_encoded = np.array(ct.transform(sample_input))\n",
        "sample_input_encoded[:, 5:9] = sc.transform(sample_input_encoded[:, 5:9])"
      ],
      "metadata": {
        "id": "axAV_mQ-e0Tp"
      },
      "execution_count": null,
      "outputs": []
    },
    {
      "cell_type": "code",
      "source": [
        "# Predict using the model\n",
        "sample_prediction = model.predict(sample_input_encoded)\n",
        "predicted_label = le.inverse_transform(sample_prediction)\n",
        "print(\"Prediction for the input sample:\", predicted_label[0])"
      ],
      "metadata": {
        "id": "dkcoNfpxe-n8"
      },
      "execution_count": null,
      "outputs": []
    }
  ]
}
